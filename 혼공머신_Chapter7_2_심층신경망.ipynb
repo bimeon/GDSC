{
  "nbformat": 4,
  "nbformat_minor": 0,
  "metadata": {
    "colab": {
      "provenance": [],
      "authorship_tag": "ABX9TyNhidFYRJK3Y4/fj52osVwS",
      "include_colab_link": true
    },
    "kernelspec": {
      "name": "python3",
      "display_name": "Python 3"
    },
    "language_info": {
      "name": "python"
    }
  },
  "cells": [
    {
      "cell_type": "markdown",
      "metadata": {
        "id": "view-in-github",
        "colab_type": "text"
      },
      "source": [
        "<a href=\"https://colab.research.google.com/github/SeohyunLee0321/GDSC/blob/main/%ED%98%BC%EA%B3%B5%EB%A8%B8%EC%8B%A0_Chapter7_2_%EC%8B%AC%EC%B8%B5%EC%8B%A0%EA%B2%BD%EB%A7%9D.ipynb\" target=\"_parent\"><img src=\"https://colab.research.google.com/assets/colab-badge.svg\" alt=\"Open In Colab\"/></a>"
      ]
    },
    {
      "cell_type": "code",
      "execution_count": null,
      "metadata": {
        "colab": {
          "base_uri": "https://localhost:8080/"
        },
        "id": "josg5fUWZ5bu",
        "outputId": "8b2d34b2-32e9-4ef1-c740-3c17d780889e"
      },
      "outputs": [
        {
          "output_type": "stream",
          "name": "stdout",
          "text": [
            "Downloading data from https://storage.googleapis.com/tensorflow/tf-keras-datasets/train-labels-idx1-ubyte.gz\n",
            "29515/29515 [==============================] - 0s 0us/step\n",
            "Downloading data from https://storage.googleapis.com/tensorflow/tf-keras-datasets/train-images-idx3-ubyte.gz\n",
            "26421880/26421880 [==============================] - 1s 0us/step\n",
            "Downloading data from https://storage.googleapis.com/tensorflow/tf-keras-datasets/t10k-labels-idx1-ubyte.gz\n",
            "5148/5148 [==============================] - 0s 0us/step\n",
            "Downloading data from https://storage.googleapis.com/tensorflow/tf-keras-datasets/t10k-images-idx3-ubyte.gz\n",
            "4422102/4422102 [==============================] - 0s 0us/step\n"
          ]
        }
      ],
      "source": [
        "# 패션 MNIST 데이터셋 불러오기\n",
        "from tensorflow import keras\n",
        "(train_input, train_target), (test_input, test_target) =\\\n",
        "  keras.datasets.fashion_mnist.load_data()"
      ]
    },
    {
      "cell_type": "code",
      "source": [
        "# 픽셀값 0~255 에서 0~1로 변환\n",
        "# 28 * 28 크기의 2차원 배열 -> 784 크기의 1차원 배열로 펼치기\n",
        "# train_test_split() 함수로 훈련 세트와 검증 세트로 나누기\n",
        "from sklearn.model_selection import train_test_split\n",
        "train_scaled = train_input / 255.0\n",
        "train_scaled = train_scaled.reshape(-1, 28*28)\n",
        "train_scaled, val_scaled, train_target, val_target = train_test_split(\n",
        "    train_scaled, train_target, test_size = 0.2, random_state = 42\n",
        ")"
      ],
      "metadata": {
        "id": "9lvLPFRwaabN"
      },
      "execution_count": null,
      "outputs": []
    },
    {
      "cell_type": "code",
      "source": [
        "# 시그모이드 활성화 함수를 사용한 은닉층과 소프트맥스 함수를 사용한 출력층을 케라스의 Dense 클래스로 만들기\n",
        "# 케사스에서 신경망의 첫 번째 층은 input_shape 매개변수로 입력의 크기 지정 꼭 필요\n",
        "dense1 = keras.layers.Dense(100, activation = 'sigmoid', input_shape = (784,))\n",
        "dense2 = keras.layers.Dense(10, activation = 'softmax')"
      ],
      "metadata": {
        "id": "QIEwUvTTbI_w"
      },
      "execution_count": null,
      "outputs": []
    },
    {
      "cell_type": "markdown",
      "source": [
        "**심층 신경망 만들기**"
      ],
      "metadata": {
        "id": "ZSfuAB6vbmHZ"
      }
    },
    {
      "cell_type": "code",
      "source": [
        "# dense1, dense2 객체를 Sequential 클래스에 추가하여 심층 신경망 만들기\n",
        "model = keras.Sequential([dense1, dense2])"
      ],
      "metadata": {
        "id": "M_oChmpibo32"
      },
      "execution_count": null,
      "outputs": []
    },
    {
      "cell_type": "code",
      "source": [
        "model.summary()"
      ],
      "metadata": {
        "colab": {
          "base_uri": "https://localhost:8080/"
        },
        "id": "C6L5fhVyb0W5",
        "outputId": "6647c8fb-d96a-4363-8491-25862348b1b3"
      },
      "execution_count": null,
      "outputs": [
        {
          "output_type": "stream",
          "name": "stdout",
          "text": [
            "Model: \"sequential\"\n",
            "_________________________________________________________________\n",
            " Layer (type)                Output Shape              Param #   \n",
            "=================================================================\n",
            " dense (Dense)               (None, 100)               78500     \n",
            "                                                                 \n",
            " dense_1 (Dense)             (None, 10)                1010      \n",
            "                                                                 \n",
            "=================================================================\n",
            "Total params: 79,510\n",
            "Trainable params: 79,510\n",
            "Non-trainable params: 0\n",
            "_________________________________________________________________\n"
          ]
        }
      ]
    },
    {
      "cell_type": "markdown",
      "source": [
        "**층을 추가하는 다른 방법**"
      ],
      "metadata": {
        "id": "PiFLNx4Vb-uq"
      }
    },
    {
      "cell_type": "code",
      "source": [
        "# dense1, dense2 객체는 따로 저장하여 쓸 일이 없기 때문에 Sequential 클래스의 생성자 안에서 바로 Dense 클래스의 객체를 만드는 경우가 많음\n",
        "model = keras.Sequential([\n",
        "    keras.layers.Dense(100, activation = 'sigmoid', input_shape = (784,),\n",
        "                       name = 'hidden'),\n",
        "    keras.layers.Dense(10, activation = 'softmax', name = 'output')\n",
        "], name = '패션 MNIST 모델')\n",
        "\n",
        "# 추가되는 층을 한눈에 쉽게 알아볼 수 있음\n",
        "# 모델과 달리 층의 이름은 반드시 영문이어야 함"
      ],
      "metadata": {
        "id": "21lrn36kcCJE"
      },
      "execution_count": null,
      "outputs": []
    },
    {
      "cell_type": "code",
      "source": [
        "model.summary()"
      ],
      "metadata": {
        "colab": {
          "base_uri": "https://localhost:8080/"
        },
        "id": "jKmYNyqacxch",
        "outputId": "84eb883b-59d7-481f-f082-172eaaec2d3b"
      },
      "execution_count": null,
      "outputs": [
        {
          "output_type": "stream",
          "name": "stdout",
          "text": [
            "Model: \"패션 MNIST 모델\"\n",
            "_________________________________________________________________\n",
            " Layer (type)                Output Shape              Param #   \n",
            "=================================================================\n",
            " hidden (Dense)              (None, 100)               78500     \n",
            "                                                                 \n",
            " output (Dense)              (None, 10)                1010      \n",
            "                                                                 \n",
            "=================================================================\n",
            "Total params: 79,510\n",
            "Trainable params: 79,510\n",
            "Non-trainable params: 0\n",
            "_________________________________________________________________\n"
          ]
        }
      ]
    },
    {
      "cell_type": "code",
      "source": [
        "# 아주 많은 층을 추가하거나, 조건에 따라 층을 추가하는 방법 add()\n",
        "model = keras.Sequential()\n",
        "model.add(keras.layers.Dense(100, activation = 'sigmoid', input_shape = (784,)))\n",
        "model.add(keras.layers.Dense(10, activation = 'softmax'))\n",
        "\n",
        "# 한눈에 추가되는 층을 볼 수 있고, 프로그램 실행 시 동적으로 층을 선택하여 추가 가능"
      ],
      "metadata": {
        "id": "y3ZjuCRFc02A"
      },
      "execution_count": null,
      "outputs": []
    },
    {
      "cell_type": "code",
      "source": [
        "model.summary()"
      ],
      "metadata": {
        "colab": {
          "base_uri": "https://localhost:8080/"
        },
        "id": "ZgtBxaaXdYYT",
        "outputId": "9ce61c8d-b531-40c1-b34f-4d79998d9c36"
      },
      "execution_count": null,
      "outputs": [
        {
          "output_type": "stream",
          "name": "stdout",
          "text": [
            "Model: \"sequential_1\"\n",
            "_________________________________________________________________\n",
            " Layer (type)                Output Shape              Param #   \n",
            "=================================================================\n",
            " dense_2 (Dense)             (None, 100)               78500     \n",
            "                                                                 \n",
            " dense_3 (Dense)             (None, 10)                1010      \n",
            "                                                                 \n",
            "=================================================================\n",
            "Total params: 79,510\n",
            "Trainable params: 79,510\n",
            "Non-trainable params: 0\n",
            "_________________________________________________________________\n"
          ]
        }
      ]
    },
    {
      "cell_type": "code",
      "source": [
        "# 모델 훈련\n",
        "model.compile(loss = 'sparse_categorical_crossentropy', metrics = 'accuracy')\n",
        "model.fit(train_scaled, train_target, epochs = 5)"
      ],
      "metadata": {
        "colab": {
          "base_uri": "https://localhost:8080/"
        },
        "id": "v6D4JZRFdd1-",
        "outputId": "3c1f95a5-254a-4396-c2b2-15d2e15883d5"
      },
      "execution_count": null,
      "outputs": [
        {
          "output_type": "stream",
          "name": "stdout",
          "text": [
            "Epoch 1/5\n",
            "1500/1500 [==============================] - 6s 3ms/step - loss: 0.5628 - accuracy: 0.8097\n",
            "Epoch 2/5\n",
            "1500/1500 [==============================] - 6s 4ms/step - loss: 0.4091 - accuracy: 0.8530\n",
            "Epoch 3/5\n",
            "1500/1500 [==============================] - 5s 4ms/step - loss: 0.3739 - accuracy: 0.8668\n",
            "Epoch 4/5\n",
            "1500/1500 [==============================] - 5s 3ms/step - loss: 0.3519 - accuracy: 0.8728\n",
            "Epoch 5/5\n",
            "1500/1500 [==============================] - 5s 3ms/step - loss: 0.3354 - accuracy: 0.8777\n"
          ]
        },
        {
          "output_type": "execute_result",
          "data": {
            "text/plain": [
              "<keras.callbacks.History at 0x7f9d7a598340>"
            ]
          },
          "metadata": {},
          "execution_count": 11
        }
      ]
    },
    {
      "cell_type": "markdown",
      "source": [
        "**렐루 함수**"
      ],
      "metadata": {
        "id": "2N1cglKIdrMD"
      }
    },
    {
      "cell_type": "markdown",
      "source": [
        "**시그모이드 함수의 단점** : 함수의 오른쪽과 왼쪽 끝으로 갈수록 그래프가 누워있기 때문에 올바른 출력을 만드는데 신속하게 대응하지 못함\n",
        "\n",
        "층이 많은 심층 신경망일수록 효과가 누적되어 학습이 더 힘듦\n",
        "\n",
        "**렐루 함수** : 입력이 양수일 경우 활성화 함수가 없는 것처럼 입력을 통과시키고 음수일 경우에는 0으로 만듦\n",
        "\n",
        "max(0, z)와 같이 쓸 수 있음 -> z가 0보다 크면 z를 출력하고 z가 0보다 작으면 0을 출력"
      ],
      "metadata": {
        "id": "YXSwocKDdwlv"
      }
    },
    {
      "cell_type": "code",
      "source": [
        "# 패션 MNIST 데이터를 1차원으로 펼치기 위해 reshape() 메서드 사용해옴\n",
        "# 케라스의 Flatten 층을 사용하는 것도 좋음\n",
        "# Flatten 클래스 : 배치 차원을 제외하고 나머지 입력 차원을 모두 일렬로 펼치는 역할만 함\n",
        "# 입력에 곱해지는 가중치나 절편이 없음 -> 인공 신경망의 성능을 위해 기여하는 바는 없음\n",
        "# 입력층과 은닉층 사이에 Flatten 층을 추가하기 때문에 '층'이라고 부름\n",
        "model = keras.Sequential()\n",
        "model.add(keras.layers.Flatten(input_shape = (28, 28)))\n",
        "model.add(keras.layers.Dense(100, activation = 'relu'))\n",
        "model.add(keras.layers.Dense(10, activation = 'softmax'))\n",
        "\n",
        "# 첫 번째 Dense 층에 있던 input_shape 매개변수를 Flatten 층으로 옮김, 첫 번째 Dense 층의 활성화 함수를 'relu'로 바꿈\n",
        "# 신경망의 깊이가 3인 것은 아님 -> Flatten 클래스는 학습하는 층이 아니기 때문"
      ],
      "metadata": {
        "id": "c9z5MwoPdt7X"
      },
      "execution_count": null,
      "outputs": []
    },
    {
      "cell_type": "code",
      "source": [
        "model.summary()"
      ],
      "metadata": {
        "colab": {
          "base_uri": "https://localhost:8080/"
        },
        "id": "dBooD0dsfirS",
        "outputId": "7ff1f067-7e04-4aa1-8325-65344f537a63"
      },
      "execution_count": null,
      "outputs": [
        {
          "output_type": "stream",
          "name": "stdout",
          "text": [
            "Model: \"sequential_2\"\n",
            "_________________________________________________________________\n",
            " Layer (type)                Output Shape              Param #   \n",
            "=================================================================\n",
            " flatten (Flatten)           (None, 784)               0         \n",
            "                                                                 \n",
            " dense_4 (Dense)             (None, 100)               78500     \n",
            "                                                                 \n",
            " dense_5 (Dense)             (None, 10)                1010      \n",
            "                                                                 \n",
            "=================================================================\n",
            "Total params: 79,510\n",
            "Trainable params: 79,510\n",
            "Non-trainable params: 0\n",
            "_________________________________________________________________\n"
          ]
        }
      ]
    },
    {
      "cell_type": "markdown",
      "source": [
        "Flatten 클래스에 포함된 모델 파라미터는 0개\n",
        "\n",
        "케라스의 Flatten 층을 신경망 모델에 추가하면 입력값의 차원을 짐작할 수 있는 것이 장점\n",
        "\n",
        "784개의 입력이 첫 번째 은닉층에 전달된다는 것을 알 수 있음"
      ],
      "metadata": {
        "id": "yN4kjMevfoz4"
      }
    },
    {
      "cell_type": "code",
      "source": [
        "# 훈련 데이터를 다시 준비하여 모델 훈련, reshape() 사용하지 않음\n",
        "(train_input, train_target), (test_input, test_target) =\\\n",
        "  keras.datasets.fashion_mnist.load_data()\n",
        "train_scaled = train_input / 255.0\n",
        "train_scaled, val_scaled, train_target, val_target = train_test_split(\n",
        "    train_scaled, train_target, test_size = 0.2, random_state = 42\n",
        ")"
      ],
      "metadata": {
        "id": "AfuWfqVMf4Dq"
      },
      "execution_count": null,
      "outputs": []
    },
    {
      "cell_type": "code",
      "source": [
        "# 모델 컴파일 후 훈련\n",
        "model.compile(loss ='sparse_categorical_crossentropy', metrics = 'accuracy')\n",
        "model.fit(train_scaled, train_target, epochs = 5)\n",
        "\n",
        "# 시그모이드 함수를 사용했을 때와 비교하여 성능 향상"
      ],
      "metadata": {
        "colab": {
          "base_uri": "https://localhost:8080/"
        },
        "id": "mfcZPXfEgXUN",
        "outputId": "e0fdee1c-7133-4132-b1c4-ddc3f3178f64"
      },
      "execution_count": null,
      "outputs": [
        {
          "output_type": "stream",
          "name": "stdout",
          "text": [
            "Epoch 1/5\n",
            "1500/1500 [==============================] - 5s 3ms/step - loss: 0.5287 - accuracy: 0.8142\n",
            "Epoch 2/5\n",
            "1500/1500 [==============================] - 5s 3ms/step - loss: 0.3931 - accuracy: 0.8599\n",
            "Epoch 3/5\n",
            "1500/1500 [==============================] - 7s 5ms/step - loss: 0.3530 - accuracy: 0.8744\n",
            "Epoch 4/5\n",
            "1500/1500 [==============================] - 5s 4ms/step - loss: 0.3353 - accuracy: 0.8791\n",
            "Epoch 5/5\n",
            "1500/1500 [==============================] - 5s 4ms/step - loss: 0.3180 - accuracy: 0.8861\n"
          ]
        },
        {
          "output_type": "execute_result",
          "data": {
            "text/plain": [
              "<keras.callbacks.History at 0x7f9d7233e280>"
            ]
          },
          "metadata": {},
          "execution_count": 17
        }
      ]
    },
    {
      "cell_type": "code",
      "source": [
        "# 검증 세트에서의 성능 확인\n",
        "model.evaluate(val_scaled, val_target)\n",
        "\n",
        "# 1절의 은닉층을 추가하지 않은 경우보다 성능 향상"
      ],
      "metadata": {
        "colab": {
          "base_uri": "https://localhost:8080/"
        },
        "id": "ovdmHY-Qg5a0",
        "outputId": "0d7991e5-d07f-41b6-94d6-70d34f6b5352"
      },
      "execution_count": null,
      "outputs": [
        {
          "output_type": "stream",
          "name": "stdout",
          "text": [
            "375/375 [==============================] - 1s 2ms/step - loss: 0.3803 - accuracy: 0.8770\n"
          ]
        },
        {
          "output_type": "execute_result",
          "data": {
            "text/plain": [
              "[0.38027507066726685, 0.8769999742507935]"
            ]
          },
          "metadata": {},
          "execution_count": 18
        }
      ]
    },
    {
      "cell_type": "markdown",
      "source": [
        "**옵티마이저**"
      ],
      "metadata": {
        "id": "RYobcPGshDFl"
      }
    },
    {
      "cell_type": "markdown",
      "source": [
        "옵티마이저 : 케라스에서 제공하는 다양한 종류의 경사 하강법 알고리즘"
      ],
      "metadata": {
        "id": "N8g9khwAhz3f"
      }
    },
    {
      "cell_type": "code",
      "source": [
        "# 가장 기본적인 옵티마이저는 확률적 경사 하강법인 SGD\n",
        "# compile() 메서드의 optimizer 매개변수를 'sgd'로 지정\n",
        "model.compile(optimizer = 'sgd', loss = 'sparse_categorical_crossentropy',\n",
        "              metrics = 'accuracy')\n",
        "\n",
        "# 위와 아래의 코드는 동일\n",
        "# sgd = keras.optimizers.SGD()\n",
        "# model.compile(optimizer = sgd, loss = 'sparse_categorical_crossentropy',\n",
        "#               metrics = 'accuracy')\n",
        "\n",
        "# 원래 sgd = keras.optimizers.SGD() 처럼 SGD 클래스 객체를 만들어 사용해야하지만 'sgd'라 지정하면 자동으로 SGD 클래스 객체를 만들어주는 것"
      ],
      "metadata": {
        "id": "9mMfPQg1iKkK"
      },
      "execution_count": null,
      "outputs": []
    },
    {
      "cell_type": "code",
      "source": [
        "# SGD 클래스의 학습률 기본값이 0.01 -> 바꾸고 싶다면 원하는 학습률을 learning_rate 매개변수에 지정하여 사용\n",
        "sgd = keras.optimizers.SGD(learning_rate = 0.1)"
      ],
      "metadata": {
        "id": "8KexA4Hpi_Tw"
      },
      "execution_count": null,
      "outputs": []
    },
    {
      "cell_type": "markdown",
      "source": [
        "SGD 클래스의 momentum 매개변수의 기본값은 0\n",
        "\n",
        "0보다 큰 값으로 지정하면 이전의 그래디언트를 가속도처럼 사용하는 **모멘텀 최적화** 사용\n",
        "\n",
        "보통 momentum 매개변수는 0.9 이상을 지정"
      ],
      "metadata": {
        "id": "bmsTOBs_jQ7d"
      }
    },
    {
      "cell_type": "code",
      "source": [
        "# SGD 클래스의 nesterov 매개변수를 기본값 False 에서 True로 바꾸면 네스테로프 모멘텀 최적화 (네스테로프 가속 경사) 사용\n",
        "sgd = keras.optimizers.SGD(momentum = 0.9, nesterov = True)\n",
        "\n",
        "# 네스테로프 모멘텀은 모멘텀 최적화를 2번 반복하여 구현 -> 기본 확률적 경사 하강법보다 더 나은 성능 제공 (보통)"
      ],
      "metadata": {
        "id": "gFrW15qZjivs"
      },
      "execution_count": null,
      "outputs": []
    },
    {
      "cell_type": "markdown",
      "source": [
        "**적응적 학습률** : 모델이 최적점 가까이 갈수록 학습률을 낮추면 안정적으로 최적점에 수렴할 가능성이 높음\n",
        "\n",
        "-> 학습률 매개변수를 튜닝하는 수고를 덜 수 있음\n",
        "\n",
        "적응적 학습률을 사용하는 대표적인 옵티마이저는 Adagrad와 RMSprop"
      ],
      "metadata": {
        "id": "ndj_Fj3kj-X6"
      }
    },
    {
      "cell_type": "code",
      "source": [
        "# 모델 재생성\n",
        "model = keras.Sequential()\n",
        "model.add(keras.layers.Flatten(input_shape = (28, 28)))\n",
        "model.add(keras.layers.Dense(100, activation = 'relu'))\n",
        "model.add(keras.layers.Dense(10, activation = 'softmax'))\n",
        "\n",
        "adagrad = keras.optimizers.Adagrad()\n",
        "model.compile(optimizer = adagrad, loss = 'sparse_categorical_crossentropy',\n",
        "              metrics = 'accuracy')\n",
        "model.fit(train_scaled, train_target, epochs = 5)"
      ],
      "metadata": {
        "colab": {
          "base_uri": "https://localhost:8080/"
        },
        "id": "dK3Aj3y9kRFf",
        "outputId": "bdc913b9-b379-4c53-d974-2979a4cf2174"
      },
      "execution_count": null,
      "outputs": [
        {
          "output_type": "stream",
          "name": "stdout",
          "text": [
            "Epoch 1/5\n",
            "1500/1500 [==============================] - 4s 3ms/step - loss: 1.1469 - accuracy: 0.6667\n",
            "Epoch 2/5\n",
            "1500/1500 [==============================] - 5s 3ms/step - loss: 0.7665 - accuracy: 0.7559\n",
            "Epoch 3/5\n",
            "1500/1500 [==============================] - 4s 3ms/step - loss: 0.6821 - accuracy: 0.7792\n",
            "Epoch 4/5\n",
            "1500/1500 [==============================] - 4s 3ms/step - loss: 0.6379 - accuracy: 0.7917\n",
            "Epoch 5/5\n",
            "1500/1500 [==============================] - 4s 3ms/step - loss: 0.6089 - accuracy: 0.8009\n"
          ]
        },
        {
          "output_type": "execute_result",
          "data": {
            "text/plain": [
              "<keras.callbacks.History at 0x7f9d75787d60>"
            ]
          },
          "metadata": {},
          "execution_count": 27
        }
      ]
    },
    {
      "cell_type": "code",
      "source": [
        "# 모델 재생성\n",
        "model = keras.Sequential()\n",
        "model.add(keras.layers.Flatten(input_shape = (28, 28)))\n",
        "model.add(keras.layers.Dense(100, activation = 'relu'))\n",
        "model.add(keras.layers.Dense(10, activation = 'softmax'))\n",
        "\n",
        "rmsprop = keras.optimizers.RMSprop()\n",
        "model.compile(optimizer = rmsprop, loss = 'sparse_categorical_crossentropy',\n",
        "              metrics = 'accuracy')\n",
        "model.fit(train_scaled, train_target, epochs = 5)"
      ],
      "metadata": {
        "colab": {
          "base_uri": "https://localhost:8080/"
        },
        "id": "9-19G_DFkb-x",
        "outputId": "6b1aff95-899a-4d61-b1da-27ffc902ef75"
      },
      "execution_count": null,
      "outputs": [
        {
          "output_type": "stream",
          "name": "stdout",
          "text": [
            "Epoch 1/5\n",
            "1500/1500 [==============================] - 5s 3ms/step - loss: 0.5343 - accuracy: 0.8142\n",
            "Epoch 2/5\n",
            "1500/1500 [==============================] - 5s 3ms/step - loss: 0.3920 - accuracy: 0.8585\n",
            "Epoch 3/5\n",
            "1500/1500 [==============================] - 5s 3ms/step - loss: 0.3530 - accuracy: 0.8739\n",
            "Epoch 4/5\n",
            "1500/1500 [==============================] - 5s 3ms/step - loss: 0.3350 - accuracy: 0.8797\n",
            "Epoch 5/5\n",
            "1500/1500 [==============================] - 4s 3ms/step - loss: 0.3206 - accuracy: 0.8845\n"
          ]
        },
        {
          "output_type": "execute_result",
          "data": {
            "text/plain": [
              "<keras.callbacks.History at 0x7f9d756a24f0>"
            ]
          },
          "metadata": {},
          "execution_count": 28
        }
      ]
    },
    {
      "cell_type": "code",
      "source": [
        "# Adam 클래스의 매개변수 기본값을 사용하여 패션 MNIST 모델 훈련\n",
        "# 모델 재생성\n",
        "model = keras.Sequential()\n",
        "model.add(keras.layers.Flatten(input_shape = (28, 28)))\n",
        "model.add(keras.layers.Dense(100, activation = 'relu'))\n",
        "model.add(keras.layers.Dense(10, activation = 'softmax'))"
      ],
      "metadata": {
        "id": "WaIrQnSFhyJz"
      },
      "execution_count": null,
      "outputs": []
    },
    {
      "cell_type": "code",
      "source": [
        "# compile() 메서드의 optimizer 를 'adam'으로 설정하고 5번의 에포크 동안 훈련\n",
        "model.compile(optimizer = 'adam', loss = 'sparse_categorical_crossentropy',\n",
        "              metrics = 'accuracy')\n",
        "model.fit(train_scaled, train_target, epochs = 5)\n",
        "\n",
        "# RMSprop 사용했을 때와 거의 같은 성능 보임"
      ],
      "metadata": {
        "colab": {
          "base_uri": "https://localhost:8080/"
        },
        "id": "wtvLCf8nh7wb",
        "outputId": "b75e83b9-1907-4861-a73f-fdcbe3573c8e"
      },
      "execution_count": null,
      "outputs": [
        {
          "output_type": "stream",
          "name": "stdout",
          "text": [
            "Epoch 1/5\n",
            "1500/1500 [==============================] - 6s 4ms/step - loss: 0.5322 - accuracy: 0.8155\n",
            "Epoch 2/5\n",
            "1500/1500 [==============================] - 7s 5ms/step - loss: 0.3934 - accuracy: 0.8597\n",
            "Epoch 3/5\n",
            "1500/1500 [==============================] - 5s 3ms/step - loss: 0.3489 - accuracy: 0.8736\n",
            "Epoch 4/5\n",
            "1500/1500 [==============================] - 4s 3ms/step - loss: 0.3298 - accuracy: 0.8809\n",
            "Epoch 5/5\n",
            "1500/1500 [==============================] - 4s 3ms/step - loss: 0.3094 - accuracy: 0.8864\n"
          ]
        },
        {
          "output_type": "execute_result",
          "data": {
            "text/plain": [
              "<keras.callbacks.History at 0x7f9d75612640>"
            ]
          },
          "metadata": {},
          "execution_count": 30
        }
      ]
    },
    {
      "cell_type": "code",
      "source": [
        "model.evaluate(val_scaled, val_target)"
      ],
      "metadata": {
        "colab": {
          "base_uri": "https://localhost:8080/"
        },
        "id": "ZISF0RC-lZ2O",
        "outputId": "d41dbcc3-b182-43ed-9a86-4ad3ff578275"
      },
      "execution_count": null,
      "outputs": [
        {
          "output_type": "stream",
          "name": "stdout",
          "text": [
            "375/375 [==============================] - 1s 2ms/step - loss: 0.3811 - accuracy: 0.8608\n"
          ]
        },
        {
          "output_type": "execute_result",
          "data": {
            "text/plain": [
              "[0.38106444478034973, 0.8607500195503235]"
            ]
          },
          "metadata": {},
          "execution_count": 31
        }
      ]
    }
  ]
}