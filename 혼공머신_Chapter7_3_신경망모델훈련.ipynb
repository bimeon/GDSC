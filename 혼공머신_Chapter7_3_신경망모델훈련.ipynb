{
  "nbformat": 4,
  "nbformat_minor": 0,
  "metadata": {
    "colab": {
      "provenance": [],
      "authorship_tag": "ABX9TyP3GXKgHX7sYKXt+HCvtIFJ",
      "include_colab_link": true
    },
    "kernelspec": {
      "name": "python3",
      "display_name": "Python 3"
    },
    "language_info": {
      "name": "python"
    },
    "accelerator": "GPU",
    "gpuClass": "standard"
  },
  "cells": [
    {
      "cell_type": "markdown",
      "metadata": {
        "id": "view-in-github",
        "colab_type": "text"
      },
      "source": [
        "<a href=\"https://colab.research.google.com/github/SeohyunLee0321/GDSC/blob/main/%ED%98%BC%EA%B3%B5%EB%A8%B8%EC%8B%A0_Chapter7_3_%EC%8B%A0%EA%B2%BD%EB%A7%9D%EB%AA%A8%EB%8D%B8%ED%9B%88%EB%A0%A8.ipynb\" target=\"_parent\"><img src=\"https://colab.research.google.com/assets/colab-badge.svg\" alt=\"Open In Colab\"/></a>"
      ]
    },
    {
      "cell_type": "markdown",
      "source": [
        "**손실 곡선**"
      ],
      "metadata": {
        "id": "rvOL5o4xrW50"
      }
    },
    {
      "cell_type": "markdown",
      "source": [
        "fit() 메서드는 History 클래스 객체 반환\n",
        "\n",
        "History 객체에는 훈련 과정에서 계산한 지표, 즉 손실과 정확도 값이 저장되어 있음"
      ],
      "metadata": {
        "id": "jOWEYu7KsPIa"
      }
    },
    {
      "cell_type": "code",
      "execution_count": null,
      "metadata": {
        "colab": {
          "base_uri": "https://localhost:8080/"
        },
        "id": "HssQHf3alpbJ",
        "outputId": "20341bc1-5f59-4089-ac27-1d47c457bc59"
      },
      "outputs": [
        {
          "output_type": "stream",
          "name": "stdout",
          "text": [
            "Downloading data from https://storage.googleapis.com/tensorflow/tf-keras-datasets/train-labels-idx1-ubyte.gz\n",
            "29515/29515 [==============================] - 0s 0us/step\n",
            "Downloading data from https://storage.googleapis.com/tensorflow/tf-keras-datasets/train-images-idx3-ubyte.gz\n",
            "26421880/26421880 [==============================] - 1s 0us/step\n",
            "Downloading data from https://storage.googleapis.com/tensorflow/tf-keras-datasets/t10k-labels-idx1-ubyte.gz\n",
            "5148/5148 [==============================] - 0s 0us/step\n",
            "Downloading data from https://storage.googleapis.com/tensorflow/tf-keras-datasets/t10k-images-idx3-ubyte.gz\n",
            "4422102/4422102 [==============================] - 0s 0us/step\n"
          ]
        }
      ],
      "source": [
        "# 패션 MNIST 데이터셋을 적재하고 훈련 세트와 검증 세트로 나누기\n",
        "from tensorflow import keras\n",
        "from sklearn.model_selection import train_test_split\n",
        "(train_input, train_target), (test_input, test_target) =\\\n",
        "  keras.datasets.fashion_mnist.load_data()\n",
        "train_scaled = train_input / 255.0\n",
        "train_scaled, val_scaled, train_target, val_target = train_test_split(\n",
        "    train_scaled, train_target, test_size = 0.2, random_state = 42\n",
        ")"
      ]
    },
    {
      "cell_type": "code",
      "source": [
        "# 모델 생성\n",
        "# 모델을 만드는 함수 정의\n",
        "def model_fn(a_layer = None):\n",
        "  model = keras.Sequential()\n",
        "  model.add(keras.layers.Flatten(input_shape = (28, 28)))\n",
        "  model.add(keras.layers.Dense(100, activation = 'relu'))\n",
        "  if a_layer:\n",
        "    model.add(a_layer)\n",
        "  model.add(keras.layers.Dense(10, activation = 'softmax'))\n",
        "  return model\n",
        "\n",
        "  # if 구문의 역할 : model_fn() 함수에 (a_layer 매개변수로) 케라스 층을 추가하면 은닉층 뒤에 또 하나의 층을 추가하는 것"
      ],
      "metadata": {
        "id": "_Qveycrstbc0"
      },
      "execution_count": null,
      "outputs": []
    },
    {
      "cell_type": "code",
      "source": [
        "model = model_fn()\n",
        "model.summary()"
      ],
      "metadata": {
        "colab": {
          "base_uri": "https://localhost:8080/"
        },
        "id": "8bL_IKeYuG5U",
        "outputId": "40089bdf-3b2f-478d-b04f-5355fb93fdc8"
      },
      "execution_count": null,
      "outputs": [
        {
          "output_type": "stream",
          "name": "stdout",
          "text": [
            "Model: \"sequential\"\n",
            "_________________________________________________________________\n",
            " Layer (type)                Output Shape              Param #   \n",
            "=================================================================\n",
            " flatten (Flatten)           (None, 784)               0         \n",
            "                                                                 \n",
            " dense (Dense)               (None, 100)               78500     \n",
            "                                                                 \n",
            " dense_1 (Dense)             (None, 10)                1010      \n",
            "                                                                 \n",
            "=================================================================\n",
            "Total params: 79,510\n",
            "Trainable params: 79,510\n",
            "Non-trainable params: 0\n",
            "_________________________________________________________________\n"
          ]
        }
      ]
    },
    {
      "cell_type": "code",
      "source": [
        "# fit() 메서드의 결과를 history 변수에 담기\n",
        "model.compile(loss = 'sparse_categorical_crossentropy', metrics = 'accuracy')\n",
        "history = model.fit(train_scaled, train_target, epochs = 5, verbose = 0)\n",
        "\n",
        "# verbose = 0?\n",
        "# verbose 매개변수는 훈련 과정 출력을 조절, 기본값은 1로 에포크마다 진행 막대와 함께 손실 등의 지표가 출력됨\n",
        "# 2로 바꾸면 진행 막대를 빼고 출력"
      ],
      "metadata": {
        "id": "pNl6GP2iuNYA"
      },
      "execution_count": null,
      "outputs": []
    },
    {
      "cell_type": "code",
      "source": [
        "# history 객체에는 훈련 측정값이 담겨 있는 history 딕셔너리가 들어있음\n",
        "print(history.history.keys())\n",
        "\n",
        "# 손실과 정확도가 포함되어있음\n",
        "# compile() 메서드에서 metrics 매개변수에 'accuracy' 를 추가했기 때문에 history 안에 정확도도 포함되어 있는 것"
      ],
      "metadata": {
        "colab": {
          "base_uri": "https://localhost:8080/"
        },
        "id": "rZ0XeZAku16x",
        "outputId": "6c084083-cecc-4f9b-bcfd-7fe4fa88de9a"
      },
      "execution_count": null,
      "outputs": [
        {
          "output_type": "stream",
          "name": "stdout",
          "text": [
            "dict_keys(['loss', 'accuracy'])\n"
          ]
        }
      ]
    },
    {
      "cell_type": "code",
      "source": [
        "# matplotlib을 사용해 손실과 정확도를 그래프로 그리기\n",
        "import matplotlib.pyplot as plt\n",
        "plt.plot(history.history['loss'])\n",
        "plt.xlabel('epoch')\n",
        "plt.ylabel('loss')\n",
        "plt.show()"
      ],
      "metadata": {
        "colab": {
          "base_uri": "https://localhost:8080/",
          "height": 279
        },
        "id": "UuI44t4AvLit",
        "outputId": "80ae0a82-ed90-412b-f96c-f49cd1ee469c"
      },
      "execution_count": null,
      "outputs": [
        {
          "output_type": "display_data",
          "data": {
            "text/plain": [
              "<Figure size 432x288 with 1 Axes>"
            ],
            "image/png": "[encoded data removed]"
          },
          "metadata": {
            "needs_background": "light"
          }
        }
      ]
    },
    {
      "cell_type": "code",
      "source": [
        "# 정확도 출력\n",
        "import matplotlib.pyplot as plt\n",
        "plt.plot(history.history['accuracy'])\n",
        "plt.xlabel('epoch')\n",
        "plt.ylabel('accuracy')\n",
        "plt.show()"
      ],
      "metadata": {
        "colab": {
          "base_uri": "https://localhost:8080/",
          "height": 281
        },
        "id": "yOJB6I4Vvimb",
        "outputId": "99be8185-161a-4bf2-d09b-57342eb829e5"
      },
      "execution_count": null,
      "outputs": [
        {
          "output_type": "display_data",
          "data": {
            "text/plain": [
              "<Figure size 432x288 with 1 Axes>"
            ],
            "image/png": "[encoded data removed]"
          },
          "metadata": {
            "needs_background": "light"
          }
        }
      ]
    },
    {
      "cell_type": "code",
      "source": [
        "# 손실이 감소하고 정확도가 향상하는 것을 알 수 있음\n",
        "# 에포크를 늘려 훈련을 늘리기\n",
        "# 손실 그래프 그리기\n",
        "model = model_fn()\n",
        "model.compile(loss = 'sparse_categorical_crossentropy', metrics = 'accuracy')\n",
        "history = model.fit(train_scaled, train_target, epochs = 20, verbose = 0)\n",
        "\n",
        "plt.plot(history.history['loss'])\n",
        "plt.xlabel('epoch')\n",
        "plt.ylabel('loss')\n",
        "plt.show()"
      ],
      "metadata": {
        "colab": {
          "base_uri": "https://localhost:8080/",
          "height": 279
        },
        "id": "xRtTKBr9vq78",
        "outputId": "3eb41dd1-8dd6-4252-d623-eab9f35bef14"
      },
      "execution_count": null,
      "outputs": [
        {
          "output_type": "display_data",
          "data": {
            "text/plain": [
              "<Figure size 432x288 with 1 Axes>"
            ],
            "image/png": "[encoded data removed]"
          },
          "metadata": {
            "needs_background": "light"
          }
        }
      ]
    },
    {
      "cell_type": "markdown",
      "source": [
        "**검증 손실**"
      ],
      "metadata": {
        "id": "zcaDYE44wDzC"
      }
    },
    {
      "cell_type": "markdown",
      "source": [
        "확률적 경사 하강법을 사용했을 때 과대/과소적합과 에포크 사이에는 관계가 있음\n",
        "\n",
        "에포크에 따른 과대/과소적합을 파악하려면 훈련세트에 대한 점수뿐만 아니라 검증세트에 대한 점수도 필요"
      ],
      "metadata": {
        "id": "1fMoHwgnwKuE"
      }
    },
    {
      "cell_type": "code",
      "source": [
        "# 에포크마다 검증 손실을 계산하기 위해 케라스 모델의 fit() 메서드에 검증 데이터를 전달\n",
        "# validation_data 매개변수에 검증에 사용할 입력과 타깃값을 튜플로 만들어 전달\n",
        "model = model_fn()\n",
        "model.compile(loss = 'sparse_categorical_crossentropy', metrics = 'accuracy')\n",
        "history = model.fit(train_scaled, train_target, epochs = 20, verbose = 0,\n",
        "                    validation_data = (val_scaled, val_target))\n",
        "print(history.history.keys())"
      ],
      "metadata": {
        "colab": {
          "base_uri": "https://localhost:8080/"
        },
        "id": "NCuYSiLVwHDH",
        "outputId": "9aa179a6-61aa-4540-a2a9-8960c169e81d"
      },
      "execution_count": null,
      "outputs": [
        {
          "output_type": "stream",
          "name": "stdout",
          "text": [
            "dict_keys(['loss', 'accuracy', 'val_loss', 'val_accuracy'])\n"
          ]
        }
      ]
    },
    {
      "cell_type": "code",
      "source": [
        "# 검증 세트에 대한 손실을 val_loss에 들어있고, 정확도는 val_accuracy에 들어있음\n",
        "# 과대/과소적합 문제를 조사하기 위해 훈련 손실과 검증 손실을 한 그래에 그려 비교\n",
        "plt.plot(history.history['loss'])\n",
        "plt.plot(history.history['val_loss'])\n",
        "plt.xlabel('epoch')\n",
        "plt.ylabel('loss')\n",
        "plt.legend(['train', 'val'])\n",
        "plt.show()\n",
        "\n",
        "# 과대적합 모델이 만들어졌음"
      ],
      "metadata": {
        "colab": {
          "base_uri": "https://localhost:8080/",
          "height": 279
        },
        "id": "HGrumhNQxARA",
        "outputId": "8a3e1a9d-6b3e-4464-a43a-42555e510daa"
      },
      "execution_count": null,
      "outputs": [
        {
          "output_type": "display_data",
          "data": {
            "text/plain": [
              "<Figure size 432x288 with 1 Axes>"
            ],
            "image/png": "[encoded data removed]"
          },
          "metadata": {
            "needs_background": "light"
          }
        }
      ]
    },
    {
      "cell_type": "code",
      "source": [
        "# 기본 RMSprop 옵티마이저는 많은 문제에서 잘 작동\n",
        "# 다른 옵티마이저 중 Adam 이 적응적 학습률을 사용하여 에포크가 진행되면서 학습률의 크기를 조정할 수 있음\n",
        "model = model_fn()\n",
        "model.compile(optimizer = 'adam', loss = 'sparse_categorical_crossentropy',\n",
        "              metrics = 'accuracy')\n",
        "history = model.fit(train_scaled, train_target, epochs = 20, verbose = 0,\n",
        "                    validation_data = (val_scaled, val_target))\n",
        "\n",
        "plt.plot(history.history['loss'])\n",
        "plt.plot(history.history['val_loss'])\n",
        "plt.xlabel('epoch')\n",
        "plt.ylabel('loss')\n",
        "plt.legend(['train', 'val'])\n",
        "plt.show()"
      ],
      "metadata": {
        "colab": {
          "base_uri": "https://localhost:8080/",
          "height": 281
        },
        "id": "AOG9_G-tx2ci",
        "outputId": "dcf52e98-2d84-46df-d2f3-720829ef3240"
      },
      "execution_count": null,
      "outputs": [
        {
          "output_type": "display_data",
          "data": {
            "text/plain": [
              "<Figure size 432x288 with 1 Axes>"
            ],
            "image/png": "[encoded data removed]"
          },
          "metadata": {
            "needs_background": "light"
          }
        }
      ]
    },
    {
      "cell_type": "markdown",
      "source": [
        "**드롭아웃**"
      ],
      "metadata": {
        "id": "p5bm_6GYzNn0"
      }
    },
    {
      "cell_type": "markdown",
      "source": [
        "드롭아웃 : 훈련 과정에서 층에 있는 일부 뉴런을 랜덤하게 꺼서 (뉴런의 출력을 0으로 만들어) 과대적합을 막는 방법\n",
        "\n",
        "-> 이전 층의 일부 뉴런이 랜덤하게 꺼지면 특정 뉴런이 과대하게 의존하는 것을 줄일 수 있고, 모든 입력에 대해 주의를 기울여야 함\n",
        "\n",
        "-> 일부 뉴런의 출력이 없을 수 있으면 더 안정적인 예측 가능"
      ],
      "metadata": {
        "id": "b83jqxBrzUdo"
      }
    },
    {
      "cell_type": "code",
      "source": [
        "# model_fn() 함수에 드롭아웃 객체를 전달하여 층을 추가\n",
        "# 30% 정도 드롭아웃\n",
        "model = model_fn(keras.layers.Dropout(0.3))\n",
        "model.summary()\n",
        "\n",
        "# 은닉층 뒤에 추가된 드롭아웃 층은 훈련되는 모델 파라미터가 없음\n",
        "# 입력과 출력의 크기가 같음\n",
        "# 일부 뉴런의 출력을 0으로 만들지만 전체 출력 배열의 크기는 바꾸지 않음"
      ],
      "metadata": {
        "colab": {
          "base_uri": "https://localhost:8080/"
        },
        "id": "mCLnwrrezfjR",
        "outputId": "d4ed8ba5-433b-4751-8eea-1a26b72243c5"
      },
      "execution_count": null,
      "outputs": [
        {
          "output_type": "stream",
          "name": "stdout",
          "text": [
            "Model: \"sequential_9\"\n",
            "_________________________________________________________________\n",
            " Layer (type)                Output Shape              Param #   \n",
            "=================================================================\n",
            " flatten_9 (Flatten)         (None, 784)               0         \n",
            "                                                                 \n",
            " dense_18 (Dense)            (None, 100)               78500     \n",
            "                                                                 \n",
            " dropout_2 (Dropout)         (None, 100)               0         \n",
            "                                                                 \n",
            " dense_19 (Dense)            (None, 10)                1010      \n",
            "                                                                 \n",
            "=================================================================\n",
            "Total params: 79,510\n",
            "Trainable params: 79,510\n",
            "Non-trainable params: 0\n",
            "_________________________________________________________________\n"
          ]
        }
      ]
    },
    {
      "cell_type": "code",
      "source": [
        "# 훈련이 끝난 뒤에 평가나 예측을 수행할 때는 드롭아웃을 적용하면 안 됨\n",
        "# 훈련된 모든 뉴런을 사용해야 올바른 예측 수행 가능\n",
        "# 텐서플로우와 케라스는 모델을 평가와 예측에 사용할 때는 자동으로 드롭아웃을 적용하지 않음\n",
        "model.compile(optimizer = 'adam', loss = 'sparse_categorical_crossentropy',\n",
        "              metrics = 'accuracy')\n",
        "history = model.fit(train_scaled, train_target, epochs = 20, verbose = 0,\n",
        "                    validation_data = (val_scaled, val_target))\n",
        "\n",
        "plt.plot(history.history['loss'])\n",
        "plt.plot(history.history['val_loss'])\n",
        "plt.xlabel('epoch')\n",
        "plt.ylabel('loss')\n",
        "plt.legend(['train', 'val'])\n",
        "plt.show()\n",
        "\n",
        "# 과대적합이 줄어든 것을 확인 가능\n",
        "# 열 번째 에포크 정도에서 검증 손실의 감소가 멈추지만 크게 상승하지 않고 어느 정도 유지되는 것을 알 수 있음\n",
        "# 20번의 에포크 동안 훈련하는 모델이기 때문에 결국 과대적합 되어 있음"
      ],
      "metadata": {
        "colab": {
          "base_uri": "https://localhost:8080/",
          "height": 279
        },
        "id": "5S1QEpNn0P9j",
        "outputId": "fe78618e-d0ef-4d0c-d278-396cad56d042"
      },
      "execution_count": null,
      "outputs": [
        {
          "output_type": "display_data",
          "data": {
            "text/plain": [
              "<Figure size 432x288 with 1 Axes>"
            ],
            "image/png": "[encoded data removed]"
          },
          "metadata": {
            "needs_background": "light"
          }
        }
      ]
    },
    {
      "cell_type": "code",
      "source": [
        "# 과대적합 되지 않은 모델을 얻기 위해 에포크 횟수를 10으로 줄이고 다시 훈련\n",
        "model = model_fn(keras.layers.Dropout(0.3))\n",
        "model.compile(optimizer = 'adam', loss = 'sparse_categorical_crossentropy',\n",
        "              metrics = 'accuracy')\n",
        "history = model.fit(train_scaled, train_target, epochs = 10, verbose = 0,\n",
        "                    validation_data = (val_scaled, val_target))"
      ],
      "metadata": {
        "id": "hSeYq6KG1CBo"
      },
      "execution_count": null,
      "outputs": []
    },
    {
      "cell_type": "code",
      "source": [
        "# 케라스 모델은 훈련된 모델의 파라미터를 저장하는 save_weights() 메서드 제공\n",
        "# 기본적으로 텐서플로우의 체크포인트 포맷으로 저장\n",
        "# 파일의 확장자가 .h5일 경우 HDF5 포맷으로 저장\n",
        "model.save_weights('model-weights.h5')"
      ],
      "metadata": {
        "id": "7BcPUnum2fjG"
      },
      "execution_count": null,
      "outputs": []
    },
    {
      "cell_type": "code",
      "source": [
        "# 모델 구조와 모델 파라미터를 함께 저장하는 save() 메서드 제공\n",
        "# 기본적으로 텐서플로우의 SavedModel 포맷으로 저장\n",
        "# 파일의 확장자가 .h5일 경우 HDF5 포맷으로 저장\n",
        "model.save('model-whole.h5')"
      ],
      "metadata": {
        "id": "cwlJYlN828VH"
      },
      "execution_count": null,
      "outputs": []
    },
    {
      "cell_type": "code",
      "source": [
        "# 파일이 잘 만들어졌는지 확인\n",
        "!ls -al *.h5\n",
        "\n",
        "# 셀 명령을 실행할 때 !를 사용"
      ],
      "metadata": {
        "colab": {
          "base_uri": "https://localhost:8080/"
        },
        "id": "9Iv239h83Ky_",
        "outputId": "453e73a1-d4e7-49dc-ba93-e04c08a18aca"
      },
      "execution_count": null,
      "outputs": [
        {
          "output_type": "stream",
          "name": "stdout",
          "text": [
            "-rw-r--r-- 1 root root 333448 Jan 18 03:15 model-weights.h5\n",
            "-rw-r--r-- 1 root root 982664 Jan 18 03:15 model-whole.h5\n"
          ]
        }
      ]
    },
    {
      "cell_type": "code",
      "source": [
        "# 훈련하지 않은 새로운 모델 만들고 model-weights.h5 파일에서 훈련된 모델 파라미터를 읽어서 사용\n",
        "model = model_fn(keras.layers.Dropout(0.3))\n",
        "model.load_weights('model-weights.h5')\n",
        "\n",
        "# 훈련하지 않은 새로운 모델을 만들고 이전에 저장했던 모델 파라미터 적재\n",
        "# load_weights() 메서드를 사용하려면 save_weights() 메서드로 저장했던 모델과 정확히 같은 구조를 가져야 함\n",
        "# model_fn() 함수를 사용해 동일한 모델을 만들어 사용했기 때문에 가능"
      ],
      "metadata": {
        "id": "c4WUvi9V3UZK"
      },
      "execution_count": null,
      "outputs": []
    },
    {
      "cell_type": "code",
      "source": [
        "# 모델의 검증 정확도 확인\n",
        "# 케라스에서 예측을 수행하는 predict() 메서드는 사이킷런과 다르게 10개의 클래스에 대한 확률 반환\n",
        "# 패션 MNIST 데이터셋에서 덜어낸 검증 세트의 샘플 개수는 12,000개이기 때문에 predict() 메서드는 (12000, 10) 크기의 배열 반환\n",
        "import numpy as np\n",
        "# 모델의 predict() 메서드 결과에서 가장 큰 값을 고르기 위해 넘파이의 argmax() 함수 사용\n",
        "# 가장 큰 값의 인덱스 반환\n",
        "# axis = -1 은 배열의 마지막 차원을 따라 최댓값 고름\n",
        "# 검증 세트는 2차원 배열이기 때문에 마지막 차원은 1\n",
        "# axis = 1이면 열을 따라 각 행의 최댓값의 인덱스 선택, axis = 0이면 행을 따라 각 열의 최댓값의 인덱스 선택\n",
        "val_labels = np.argmax(model.predict(val_scaled), axis = -1)\n",
        "# argmax() 로 고른 인덱스(val_labels)와 타깃(val_target)을 비교\n",
        "# 두 배열에서 각 위치의 값이 같으면 1, 다르면 0 -> 평균 -> 정확도\n",
        "print(np.mean(val_labels == val_target))"
      ],
      "metadata": {
        "colab": {
          "base_uri": "https://localhost:8080/"
        },
        "id": "OfaGl0Um4G5h",
        "outputId": "f3a85b23-6ccd-4063-f9d1-b2918abed904"
      },
      "execution_count": null,
      "outputs": [
        {
          "output_type": "stream",
          "name": "stdout",
          "text": [
            "375/375 [==============================] - 1s 2ms/step\n",
            "0.87825\n"
          ]
        }
      ]
    },
    {
      "cell_type": "code",
      "source": [
        "# 모델 전체를 파일에서 읽은 다음 검증 세트의 정확도 출력\n",
        "model = keras.models.load_model('model-whole.h5')\n",
        "model.evaluate(val_scaled, val_target)"
      ],
      "metadata": {
        "colab": {
          "base_uri": "https://localhost:8080/"
        },
        "id": "bEEVfZ217xtb",
        "outputId": "e261dd6f-1770-4365-e171-41d19942231f"
      },
      "execution_count": null,
      "outputs": [
        {
          "output_type": "stream",
          "name": "stdout",
          "text": [
            "375/375 [==============================] - 1s 2ms/step - loss: 0.3365 - accuracy: 0.8783\n"
          ]
        },
        {
          "output_type": "execute_result",
          "data": {
            "text/plain": [
              "[0.3365485370159149, 0.878250002861023]"
            ]
          },
          "metadata": {},
          "execution_count": 29
        }
      ]
    },
    {
      "cell_type": "markdown",
      "source": [
        "**콜백**"
      ],
      "metadata": {
        "id": "vYmtkofF8C2i"
      }
    },
    {
      "cell_type": "markdown",
      "source": [
        "콜백 : 훈련 과정 중간에 어떤 작업을 수행할 수 있게 하는 객체\n",
        "\n",
        "keras.callbacks 패키지 아래에 있는 클래스들\n",
        "\n",
        "fit() 메서드의 callbacks 매개변수에 리스트로 전달하여 사용"
      ],
      "metadata": {
        "id": "4iJ7CA1_8Etn"
      }
    },
    {
      "cell_type": "code",
      "source": [
        "# ModelCheckpoint 콜백은 에포크마다 모델 저장\n",
        "# save_best_only = True 매개변수를 지정하여 가장 낮은 검증 점수를 만드는 모델 저장\n",
        "model = model_fn(keras.layers.Dropout(0.3))\n",
        "model.compile(optimizer = 'adam', loss = 'sparse_categorical_crossentropy',\n",
        "              metrics = 'accuracy')\n",
        "checkpoint_cb = keras.callbacks.ModelCheckpoint('best-model.h5', save_best_only = True)\n",
        "model.fit(train_scaled, train_target, epochs = 20, verbose = 0,\n",
        "          validation_data = (val_scaled, val_target), callbacks = [checkpoint_cb])"
      ],
      "metadata": {
        "colab": {
          "base_uri": "https://localhost:8080/"
        },
        "id": "8IQEB_q98Pdv",
        "outputId": "2e1336ad-a6ef-47ac-bdf5-4afa4b06dacd"
      },
      "execution_count": null,
      "outputs": [
        {
          "output_type": "execute_result",
          "data": {
            "text/plain": [
              "<keras.callbacks.History at 0x7fb7f28d7b50>"
            ]
          },
          "metadata": {},
          "execution_count": 33
        }
      ]
    },
    {
      "cell_type": "code",
      "source": [
        "# load_model() 함수로 다시 읽어서 예측 수행\n",
        "model = keras.models.load_model('best-model.h5')\n",
        "model.evaluate(val_scaled, val_target)\n",
        "\n",
        "# ModelCheckpoint 콜백이 가장 낮은 검증 점수의 모델을 자동으로 저장 but 여전히 20번의 에포크 동안 훈련"
      ],
      "metadata": {
        "colab": {
          "base_uri": "https://localhost:8080/"
        },
        "id": "4P8mzrpC9akX",
        "outputId": "0682d248-5b38-43b9-a374-69cc148804fd"
      },
      "execution_count": null,
      "outputs": [
        {
          "output_type": "stream",
          "name": "stdout",
          "text": [
            "375/375 [==============================] - 1s 2ms/step - loss: 0.3161 - accuracy: 0.8884\n"
          ]
        },
        {
          "output_type": "execute_result",
          "data": {
            "text/plain": [
              "[0.31608694791793823, 0.8884166479110718]"
            ]
          },
          "metadata": {},
          "execution_count": 34
        }
      ]
    },
    {
      "cell_type": "markdown",
      "source": [
        "**조기 종료** : 검증 점수가 한 번 상승하기 시작하면 그 이후에는 과대적합이 더 커지기 때문에 훈련을 계속할 필요가 없음\n",
        "\n",
        "이때 훈련을 중지하면 컴퓨터 자원과 시간을 아낄 수 있음\n",
        "\n",
        "과대적합이 시작되기 전에 훈련을 미리 중지하는 것\n",
        "\n",
        "케라스에는 조기 종료를 위한 EarlyStopping 콜백을 제공\n",
        "\n",
        "patience 매개변수는 검증 점수가 향상되지 않더라도 참을 에포크 횟수를 지정"
      ],
      "metadata": {
        "id": "LgOvoH5Q93nY"
      }
    },
    {
      "cell_type": "code",
      "source": [
        "model = model_fn(keras.layers.Dropout(0.3))\n",
        "model.compile(optimizer = 'adam', loss = 'sparse_categorical_crossentropy',\n",
        "              metrics = 'accuracy')\n",
        "checkpoint_cb = keras.callbacks.ModelCheckpoint('best-model.h5', save_best_only = True)\n",
        "early_stopping_cb = keras.callbacks.EarlyStopping(patience = 2, restore_best_weights = True)\n",
        "history = model.fit(train_scaled, train_target, epochs = 20, verbose = 0,\n",
        "          validation_data = (val_scaled, val_target), callbacks = [checkpoint_cb, early_stopping_cb])\n",
        "\n",
        "# patience = 2 로 지정하면 2번 연속 검증 점수가 향상되지 않으면 훈련 중지\n",
        "# restore_best_weights 매개변수를 True 로 지정하면 가장 낮은 검증 손실을 낸 모델 파라미터로 되돌림\n",
        "# EarlyStopping 콜백을 ModelCheckpoint 콜백과 함께 사용하면 가장 낮은 검증 손실의 모델을 파일에 저장하고 검증 손실이 다시 상승할 때 훈련 중지 가능\n",
        "# 훈련 중지한 다음 현재 모델의 파라미터를 최상의 파라미터로 되돌림"
      ],
      "metadata": {
        "id": "b-Wz0Afv-W1t"
      },
      "execution_count": null,
      "outputs": []
    },
    {
      "cell_type": "code",
      "source": [
        "print(early_stopping_cb.stopped_epoch)\n",
        "\n",
        "# patience 를 2로 지정했으므로 최상의 모델은 9번째 에포크일 것"
      ],
      "metadata": {
        "colab": {
          "base_uri": "https://localhost:8080/"
        },
        "id": "COC7c3Bz_KJm",
        "outputId": "5bdb9a76-60e1-41db-9d52-f74d3e0ea827"
      },
      "execution_count": null,
      "outputs": [
        {
          "output_type": "stream",
          "name": "stdout",
          "text": [
            "10\n"
          ]
        }
      ]
    },
    {
      "cell_type": "code",
      "source": [
        "# 훈련 손실과 검증 손실을 출력해서 확인\n",
        "plt.plot(history.history['loss'])\n",
        "plt.plot(history.history['val_loss'])\n",
        "plt.xlabel('epoch')\n",
        "plt.ylabel('loss')\n",
        "plt.legend(['train', 'val'])\n",
        "plt.show()"
      ],
      "metadata": {
        "colab": {
          "base_uri": "https://localhost:8080/",
          "height": 281
        },
        "id": "D0m7MYPB_WPM",
        "outputId": "b2a4257d-bb84-4489-fe81-d6e50326bac2"
      },
      "execution_count": null,
      "outputs": [
        {
          "output_type": "display_data",
          "data": {
            "text/plain": [
              "<Figure size 432x288 with 1 Axes>"
            ],
            "image/png": "[encoded data removed]"
          },
          "metadata": {
            "needs_background": "light"
          }
        }
      ]
    },
    {
      "cell_type": "code",
      "source": [
        "# 조기 종료로 얻은 모델을 사용해 검증 세트에 대한 성능 확인\n",
        "model.evaluate(val_scaled, val_target)"
      ],
      "metadata": {
        "colab": {
          "base_uri": "https://localhost:8080/"
        },
        "id": "Imr2jTYd_oRf",
        "outputId": "70354b23-f2d0-4a61-c82b-f9d90b5d0e65"
      },
      "execution_count": null,
      "outputs": [
        {
          "output_type": "stream",
          "name": "stdout",
          "text": [
            "375/375 [==============================] - 1s 2ms/step - loss: 0.3257 - accuracy: 0.8820\n"
          ]
        },
        {
          "output_type": "execute_result",
          "data": {
            "text/plain": [
              "[0.3256708085536957, 0.8820000290870667]"
            ]
          },
          "metadata": {},
          "execution_count": 41
        }
      ]
    }
  ]
}